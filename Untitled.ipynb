{
 "cells": [
  {
   "cell_type": "code",
   "execution_count": 13,
   "id": "adb6f7bb",
   "metadata": {
    "scrolled": true
   },
   "outputs": [
    {
     "ename": "SyntaxError",
     "evalue": "invalid syntax (4091049072.py, line 1)",
     "output_type": "error",
     "traceback": [
      "\u001b[1;36m  Input \u001b[1;32mIn [13]\u001b[1;36m\u001b[0m\n\u001b[1;33m    conda info --envs\u001b[0m\n\u001b[1;37m          ^\u001b[0m\n\u001b[1;31mSyntaxError\u001b[0m\u001b[1;31m:\u001b[0m invalid syntax\n"
     ]
    }
   ],
   "source": [
    "# since you first have to create a virtual environment it get created with no jupyter notebooks preinstalled, so:\n",
    "# pip install --user ipykernel - this install the jupyter kernel \n",
    "# python -m ipykernel install --user --name=myenv - this creates the environment as kernel\n"
   ]
  },
  {
   "cell_type": "code",
   "execution_count": 1,
   "id": "a0064b0d",
   "metadata": {},
   "outputs": [
    {
     "ename": "ModuleNotFoundError",
     "evalue": "No module named 'chessdotcom'",
     "output_type": "error",
     "traceback": [
      "\u001b[1;31m---------------------------------------------------------------------------\u001b[0m",
      "\u001b[1;31mModuleNotFoundError\u001b[0m                       Traceback (most recent call last)",
      "Input \u001b[1;32mIn [1]\u001b[0m, in \u001b[0;36m<cell line: 1>\u001b[1;34m()\u001b[0m\n\u001b[1;32m----> 1\u001b[0m \u001b[38;5;28;01mfrom\u001b[39;00m \u001b[38;5;21;01mchessdotcom\u001b[39;00m \u001b[38;5;28;01mimport\u001b[39;00m client, get_player_game_archives\n\u001b[0;32m      2\u001b[0m \u001b[38;5;28;01mimport\u001b[39;00m \u001b[38;5;21;01mpprint\u001b[39;00m\n\u001b[0;32m      3\u001b[0m \u001b[38;5;28;01mimport\u001b[39;00m \u001b[38;5;21;01mrequests\u001b[39;00m\n",
      "\u001b[1;31mModuleNotFoundError\u001b[0m: No module named 'chessdotcom'"
     ]
    }
   ],
   "source": [
    "\n",
    "from chessdotcom import client, get_player_game_archives\n",
    "import pprint\n",
    "import requests\n",
    "import pandas as pd\n",
    "\n",
    "username = 'chiopra'\n",
    "\n",
    "printer = pprint.PrettyPrinter()\n",
    "\n",
    "def print_stats(username):\n",
    "    data = client.get_player_stats(username, tts=0)\n",
    "    printer.pprint(data.json)\n",
    "\n",
    "def get_games(username):\n",
    "    data = get_player_game_archives(username)\n",
    "    for key,value in data.json.items():\n",
    "        for url in value:\n",
    "            games = requests.get(url).json()\n",
    "            print(url)\n",
    "            print()\n",
    "            print()\n",
    "            print()\n",
    "            # printer.pprint(games['games'])\n",
    "            for game in games['games']:\n",
    "                print(game['time_class'])\n",
    "                print(type(game))\n",
    "                df = pd.DataFrame.from_dict(game, orient = 'columns')\n",
    "                print(df)\n",
    "                print\n",
    "                print(df.columns)\n",
    "                string = df['pgn'].to_string(index=False)\n",
    "                print(string)\n",
    "                for i in string.split('\"'):\n",
    "                    print(i)\n",
    "                break;\n",
    "            break;\n",
    "              \n",
    "    # for i in data['Archives']:\n",
    "    #     print(i)\n",
    "    # printer.pprint(data.json)\n",
    "\n",
    "get_games(username)\n",
    "\n",
    "# print(requests.get('https://www.chess.com/game/live/1221711014').content())"
   ]
  },
  {
   "cell_type": "code",
   "execution_count": null,
   "id": "53df2290",
   "metadata": {},
   "outputs": [],
   "source": []
  }
 ],
 "metadata": {
  "kernelspec": {
   "display_name": "myenv",
   "language": "python",
   "name": "myenv"
  },
  "language_info": {
   "codemirror_mode": {
    "name": "ipython",
    "version": 3
   },
   "file_extension": ".py",
   "mimetype": "text/x-python",
   "name": "python",
   "nbconvert_exporter": "python",
   "pygments_lexer": "ipython3",
   "version": "3.10.8"
  }
 },
 "nbformat": 4,
 "nbformat_minor": 5
}
